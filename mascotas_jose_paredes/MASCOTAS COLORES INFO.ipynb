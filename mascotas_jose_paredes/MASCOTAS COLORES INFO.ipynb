{
 "cells": [
  {
   "attachments": {
    "image-2.png": {
     "image/png": "[encoded data removed]"
    }
   },
   "cell_type": "markdown",
   "id": "f018631f",
   "metadata": {},
   "source": [
    "# ANOTACIONES ENCONTRADAS\n",
    "\n",
    "### BUSQUEDA MUNDIAL\n",
    "\n",
    "PERROS:\n",
    "- ¿El color de un perro significa algo?\n",
    "Los colores del pelaje de los perros afectan varios factores, incluida la capacidad olfativa del perro. Esto significa que su sentido del olfato se ve afectado por el color de su pelaje principalmente debido a la genética. Se sabe que los perros más pálidos y especialmente los albinos tienen un sentido del olfato subdesarrollado.\n",
    "\n",
    "- ¿Cuál es el color de perro más común?\n",
    "Esto es complicado, pero aquí tienes: los colores más comunes son el negro, el marrón y el blanco. El rojo y el castaño rojizo son más raros. Con un perro negro, el segundo color más común es el bronceado o el blanco.\n",
    "\n",
    "- ¿Cuál es el color de perro menos común?\n",
    "Todas estas razas de perros tienen abrigos negros, marrones, blancos o alguna mezcla de estos colores en sus abrigos. Los colores de pelaje menos comunes en los perros incluyen rojo, bronceado, atigrado, gris y azul acero.\n",
    "\n",
    "- ¿CUALES SON LAS RAZAS MAS POPULARES? (2020)\n",
    "    1. Border Collie.\n",
    "    2. Caniche.\n",
    "    3. Pastor alemán.\n",
    "    4. Golden retriever.\n",
    "    5. Doberman.\n",
    "    6. Pastor de las Shetland.\n",
    "    7. Labrador retriever.\n",
    "    8. Papillon.\n",
    "\n",
    "- ¿CUALES SON LAS RAZAS MENOS POPULARES? (2020)\n",
    "    1. Cesky Terrier.\n",
    "    2. Raposero americano.\n",
    "    3. Perro Pastor Bergamasco.\n",
    "    4. Raposero inglés.\n",
    "    5. Aguilucho.\n",
    "    6. Chinook.\n",
    "    7. Lundehund noruego.\n",
    "    8. Sloughi\n",
    "\n",
    "WEB: https://midogguide.com/dog-breeds/what-color-dog-is-most-popular.html\n",
    "\n",
    "\n",
    "\n",
    "### DATOS MALASIA\n",
    "· CIUDAD DE LOS GATOS, KUCHING\n",
    "\n",
    "WEB: https://destinoinfinito.com/kuching/\n",
    "\n",
    "· LAS 5 MASCOTAS MAS POPULARES EN MALASIA(24 SEP. 2020)\n",
    "    1. GATOS\n",
    "    2. PERROS\n",
    "    3. CONEJOS\n",
    "    4. PECES\n",
    "    5. HAMSTERS\n",
    "WEB: https://perromart.com.my/blogs/perro-learning-center/5-most-popular-pets-in-malaysia\n",
    "\n",
    "· LOS 10 RAZAS DE GATOS MAS POPULARES:\n",
    "    1. British Shorthair\n",
    "    2. Bengal Cat\n",
    "    3. Persian Cat\n",
    "    4. Scottish Fold\n",
    "    5. Maine Coon\n",
    "    6. Munchkin Cat\n",
    "    7. Asian Semi-longhair\n",
    "    8. American Shorthair\n",
    "    9. Ragdoll\n",
    "    10. Siamese Cat\n",
    "WEB: https://www.oyen.my/post/popular-cat-breeds-malaysia\n",
    "\n",
    "· PERROS MAS COMPRADOS POR PAIS:\n",
    "#### - Malasia: Rotweiller.\n",
    "\t- Japón: Akita inu.\n",
    "\t- Corea del Sur: Bichón maltés.\n",
    "\t- India: Rottweiler.\n",
    "\t- Emiratos Árabes: Bichón maltés.\n",
    "\t- Tailandia: Bulldog.\n",
    "\t- China: Doguillo.\n",
    "\t- Vietnam: Poodle.\n",
    "\t- Indonesia: Huskie siberiano.\n",
    "\n",
    "· RESTRICCION DE RAZAS Y RAZAS CON CONDICIONES ESPECIALES\n",
    "    - Some breeds of dogs are not allowed in Malaysia. These are:\n",
    "    - Pitbull\n",
    "    - American Staffordshire terrier\n",
    "    - Staffordshire bull terrier\n",
    "    - American bulldog\n",
    "    - Neapolitan mastiff\n",
    "    - Japanese tosa\n",
    "    - Akita\n",
    "    - Dogo argentino\n",
    "    - Fila braziliero\n",
    "\n",
    "   - The following breeds are restricted or subject to special conditions:\n",
    "\n",
    "\t- Rottweiler\n",
    "\t- Doberman\n",
    "\t- German shepherd\n",
    "\t- Bull mastiff\n",
    "\t- Bull terrier\n",
    "\t- Perro de presa canario (dogo canario)\n",
    "\n",
    "WEB: https://www.angloinfo.com/how-to/malaysia/family/pets-animals\n",
    "\n",
    "· Realizo una busqueda en googlemaps sobre asociaciones.\n",
    "https://www.google.com/maps/search/adopt+pet+in+malaysia+maps/@4.2520648,103.7526688,6.14z\n",
    "\n",
    "· Intento contactar con SPCA Y PAK MIE SHELTES, enviado un mensaje via Facebook para saber si puede indicarnos las razas y colores mas adoptadas y menos.\n",
    "(PENDIENTE DE CONTESTACION)\n",
    "\n",
    "· SUPERSTICIONES MALASYA\n",
    "\tEl rojo y el azul son los colores de la buena fortuna para la mayoría de la población china supersticiosa mientras el \tnegro es el color de mala suerte.\n",
    "        - PERROS: Un perro amarillo/dorado con cejas claras se considera de buena suerte, mientras que uno con cejas oscuras se considera de mala suerte.\n",
    " \t- GATOS: Los gatos negros dan mala suerte en malasia.\n",
    "\n",
    "· INVESTIGANDO SPCA DE NUEVO ENCUENTRO UN POST DEL 2018:\n",
    "https://www.facebook.com/44640111208/posts/we-currently-have-a-lot-of-blacktuxedo-cats-in-spca-we-can-give-you-100-reasons-/10156290494206209/\n",
    "\n",
    "   - TRADUCCION POST:\n",
    "\tActualmente tenemos un montón de gatos \"negros/tuxedo\" en SPCA. Podemos darte 100 razones pero la mejor razón para \t\tadoptar un gato negro es simplemente porque los gatos negros son los que tienen menos probabilidades de ser \t\tadoptados. 🙁\n",
    "\t¡Si necesitas estar convencido, aquí tienes las 6 razones más para adoptar un gato negro!\n",
    "\t1. El negro va con todo. Los gatos negros no chocarán con tus otros gatitos, tu decoración o lo que llevas puesto.\n",
    "\t2. Los gatos negros hacen buenos amigos. Pero en serio, todos los gatos son grandes amigos.\n",
    "\t3. Porque creer en supersticiones que se remontan a la Edad Media, simplemente no tiene ningún sentido. Los gatos \t\tnegros no tienen más mala suerte que otro tipo de gato. De hecho, ¡en algunas partes del mundo los gatos negros son \t\tconsiderados afortunados!\n",
    "\t4. Los gatos negros son realmente bastante sorprendentes, particularmente cuando tienen ojos verdes o amarillos \t\tbrillantes.\n",
    "\t5. Puedes decirle a la gente que tu gato negro es parte de tu disfraz de bruja/brujo en tu fiesta de Halloween.\n",
    "\t6. ¿Como Pantera Negra? ¡Entonces amarás a los gatos negros!\n",
    "\n",
    "· RELIGION:\n",
    "De acuerdo con la Constitución de Malasia, todos los malayos están obligados a ser musulmanes.\n",
    "De acuerdo con otras fuentes,[cita requerida] en Malasia la religión oficial es el islamismo sunita, que es además la religión mayoritaria de los malayos (54%).\n",
    "\n",
    "La población china es mayoritariamente budista (18%) y taoísta (22%), mientras que la población de origen tamil (de la India) es hinduista (7%).\n",
    "\n",
    "Existe también una minoría cristiana (7%).\n",
    "![image-2.png](attachment:image-2.png)\n",
    "- [VERDE] Islam 61.3%\n",
    "- [AMARILLO] Budismo 19.8%\n",
    "- [AZUL] Cristianismo 9.2%\n",
    "- [NARANJA] Hinduismo 6.3%\n",
    "- [ROJO] Confucianismo, Taoísmo, Religión tradicional china y otras 3.4%\n",
    "\n",
    "WEB: https://es.wikipedia.org/wiki/Religi%C3%B3n_en_Malasia\n",
    "\n",
    "\n",
    "- LOS GATOS \n",
    "El gato doméstico es un animal venerado en el Islam. Admirados por su limpieza, los gatos son considerados \"la mascota por excelencia\" por los musulmanes\n",
    "WEB:https://en.wikipedia.org/wiki/Islam_and_cats\n",
    "\n",
    "- PUEDEN TENER PERROS DE COLOR NEGROS LOS MUSULMANES?\n",
    "Según una historia de Muslim ibn al-Hajjaj, los perros negros son un la manifestación del mal en forma animal y la compañía de perros anula una parte de las buenas obras de un musulmán.\n",
    "\n",
    "WEB:https://en.wikipedia.org/wiki/Animals_in_Islam\n",
    "\n",
    "· CONCLUSIONES COLORES\n",
    "- PRIORIZAN EN ADOPCION A LOS GATOS POR RELIGION.\n",
    "- PEOR COLOR ES EL NEGRO EN GATOS Y PERROS.\n",
    "- EL MEJOR COLOR PARA LOS PERROS ES AMARILLO/DORADO (IMPORTANTE CARACTERISTICA CEJAS CLARAS).\n",
    "- EL MEJOR COLOR PARA LOS GATOS ES BLANCOS, GRISES Y ATIGRADOS (NARANJA, NEGRO)."
   ]
  },
  {
   "cell_type": "code",
   "execution_count": null,
   "id": "a425b90e",
   "metadata": {},
   "outputs": [],
   "source": [
    "# librerías de terceros\n",
    "import pandas as pd\n",
    "import numpy as np\n",
    "import matplotlib.pyplot as plt\n",
    "import seaborn as sns \n",
    "from pandas_profiling import ProfileReport"
   ]
  },
  {
   "cell_type": "code",
   "execution_count": null,
   "id": "1ed2dcad",
   "metadata": {},
   "outputs": [],
   "source": [
    "# ajustes para ver mejor todo:\n",
    "pd.set_option('display.max_columns', None)\n",
    "# pd.set_option('display.float_format', '{:.3f}'.format)\n",
    "# pd.set_option('display.max_rows', None)\n",
    "#pd.set_option('display.max_colwidth',None)\n",
    "# por si nos hace falta matplotlib\n",
    "%matplotlib inline"
   ]
  },
  {
   "cell_type": "code",
   "execution_count": null,
   "id": "facec5f5",
   "metadata": {},
   "outputs": [],
   "source": [
    "df = pd.read_csv(\"./mascotas/train.csv\")\n",
    "df"
   ]
  },
  {
   "cell_type": "code",
   "execution_count": null,
   "id": "646acad7",
   "metadata": {},
   "outputs": [],
   "source": [
    "\"\"\"# CREAMOS EL PANDAS PROFILING\n",
    "automatico = ProfileReport(df) #,minimal=True)\n",
    "nombre_salida = 'EDA_MASCOTAS'\n",
    "automatico.to_file(output_file=nombre_salida)\"\"\""
   ]
  },
  {
   "cell_type": "code",
   "execution_count": null,
   "id": "a3edc5d1",
   "metadata": {
    "scrolled": false
   },
   "outputs": [],
   "source": [
    "df['Color_Black']=df.apply(lambda df: 1 if (df['Color1']==1)&(df[\"Color2\"]==1) else 0, axis=1)\n",
    "df['Perro_Golden']=df.apply(lambda df: 1 if df['Color1']==3 else 0, axis=1)\n",
    "df['Perro_Yellow']=df.apply(lambda df: 1 if df['Color1']==4 else 0, axis=1)\n",
    "df['Gato_White']=df.apply(lambda df: 1 if df['Color1']==7 else 0, axis=1)\n",
    "df['Gato_Gray']=df.apply(lambda df: 1 if df['Color1']==6 else 0, axis=1)\n",
    "df['Gato_atigrado']=df.apply(lambda df: 1 if (df['Color1']==2)&(df[\"Color2\"]==1) else 0, axis=1)\n",
    "df"
   ]
  },
  {
   "cell_type": "code",
   "execution_count": null,
   "id": "63a717b4",
   "metadata": {},
   "outputs": [],
   "source": [
    "df=df[[\"PetID\", \"Color_Black\", \"Perro_Golden\",\"Perro_Yellow\", \"Gato_White\", \"Gato_Gray\", \"Gato_atigrado\"]]"
   ]
  },
  {
   "cell_type": "code",
   "execution_count": null,
   "id": "34bc05f2",
   "metadata": {},
   "outputs": [],
   "source": [
    "df.head(100)"
   ]
  },
  {
   "cell_type": "code",
   "execution_count": null,
   "id": "b7c31343",
   "metadata": {},
   "outputs": [],
   "source": [
    "df.to_csv(\"COLOR_MASCOTAS1.csv\", index= False)"
   ]
  },
  {
   "cell_type": "code",
   "execution_count": null,
   "id": "03e97b8c",
   "metadata": {},
   "outputs": [],
   "source": [
    "#CARGAMOS EL .CSV DEL ESTUDIO DE COLORES\n",
    "df_colors = pd.read_csv(\"./mascotas/COLOR_MASCOTAS.csv\")\n",
    "df_colors"
   ]
  },
  {
   "cell_type": "code",
   "execution_count": null,
   "id": "2242ac52",
   "metadata": {},
   "outputs": [],
   "source": [
    "df = pd.read_csv(\"./mascotas/train.csv\")\n",
    "df"
   ]
  },
  {
   "cell_type": "code",
   "execution_count": null,
   "id": "b0a88a31",
   "metadata": {},
   "outputs": [],
   "source": [
    "# Unimos el .csv al df principal con un merge\n",
    "df=pd.merge(df, df_colors, left_on='PetID', right_on='PetID')\n",
    "df"
   ]
  },
  {
   "cell_type": "code",
   "execution_count": null,
   "id": "9babab2b",
   "metadata": {},
   "outputs": [],
   "source": [
    "numericas= [x for x in df.dtypes.index if (df.dtypes[x]=='float64' or df.dtypes[x]=='int64')]\n",
    "categoricas= [x for x in df.dtypes.index if (df.dtypes[x]=='O' or df.dtypes[x]=='object')]\n",
    "fechas = [x for x in df.dtypes.index if (df.dtypes[x]=='datetime64')]\n",
    "booleanas = [x for x in df.dtypes.index if (df.dtypes[x]=='bool')]\n",
    "print(\"Numericas\")\n",
    "print(numericas)\n",
    "print(\"Categoricas\")\n",
    "print(categoricas)\n",
    "print(\"Fechas\")\n",
    "print(fechas)\n",
    "print(\"Booleanas\")\n",
    "print(booleanas)"
   ]
  },
  {
   "cell_type": "code",
   "execution_count": null,
   "id": "f7d87263",
   "metadata": {},
   "outputs": [],
   "source": [
    "# por tanto todas son one hot\n",
    "df_num = pd.get_dummies(df, columns=categoricas, prefix=['Nm', 'Res_ID', 'Descrip', 'P_ID'])\n",
    "df_num"
   ]
  },
  {
   "cell_type": "code",
   "execution_count": null,
   "id": "520799fc",
   "metadata": {},
   "outputs": [],
   "source": [
    "df[categoricas].nunique()"
   ]
  },
  {
   "cell_type": "code",
   "execution_count": null,
   "id": "e588c57e",
   "metadata": {},
   "outputs": [],
   "source": [
    "print(categoricas)"
   ]
  },
  {
   "cell_type": "code",
   "execution_count": null,
   "id": "c582e0e8",
   "metadata": {},
   "outputs": [],
   "source": []
  }
 ],
 "metadata": {
  "kernelspec": {
   "display_name": "Python 3 (ipykernel)",
   "language": "python",
   "name": "python3"
  },
  "language_info": {
   "codemirror_mode": {
    "name": "ipython",
    "version": 3
   },
   "file_extension": ".py",
   "mimetype": "text/x-python",
   "name": "python",
   "nbconvert_exporter": "python",
   "pygments_lexer": "ipython3",
   "version": "3.7.4"
  }
 },
 "nbformat": 4,
 "nbformat_minor": 5
}
